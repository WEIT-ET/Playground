{
  "cells": [
    {
      "cell_type": "markdown",
      "id": "421e7869",
      "metadata": {
        "id": "421e7869"
      },
      "source": [
        "# WEIT x DataStation Team Mission 1.\n",
        "\n",
        "- 아래의 15개의 미션을 제출 기간 내 수행하시면 됩니다. / 개별 제출\n",
        "- 첫 5개 미션은 개인 스스로 풀어보고, 나머지 미션은 팀원들과 같이 풀어보세요.\n",
        "- Chat GPT + 교재 + 팀스터디 모두 활용하여 풀어보시길 바랍니다.\n",
        "- 미션 미제출시, 수료증 발급에 제한이 될 수 있습니다.\n",
        "\n",
        "  \n",
        "  \n",
        "- **기한 : 23년 11월 15일 23시 59분까지 / 이후 제출 절대 인정 불가**\n",
        "- **양식 :**\n",
        "    - 제목 : \"위아이티4기_팀명_이름_Mission1\"\n",
        "    - 첨부파일 : 해당 Mission 파일\n",
        "    - 개별 제출 --> woghkszhf@naver.com <--"
      ]
    },
    {
      "cell_type": "markdown",
      "id": "00d6c9cc",
      "metadata": {
        "id": "00d6c9cc"
      },
      "source": [
        "**1. 자료구조 Dictionary를 이용하여, if 문 없이 연도를 입력했을 때 윤년/평년을 판별하여 출력하는 프로그램을 생성하시오.**"
      ]
    },
    {
      "cell_type": "code",
      "execution_count": 5,
      "id": "9f897ad3",
      "metadata": {
        "colab": {
          "base_uri": "https://localhost:8080/"
        },
        "id": "9f897ad3",
        "outputId": "ea7b6bbd-6b02-4fbc-c486-65dfdaecd830"
      },
      "outputs": [
        {
          "output_type": "stream",
          "name": "stdout",
          "text": [
            "2022\n",
            "평년\n"
          ]
        }
      ],
      "source": [
        "year = int(input())\n",
        "ans = { True: '평년', False: '윤년' }\n",
        "_year_dic = dict()\n",
        "_year_dic['4'] = year % 4 == 0\n",
        "_year_dic['100'] = year % 100 == 0\n",
        "_year_dic['400'] = year % 400 == 0\n",
        "isLeaf = _year_dic['4'] == False or (_year_dic['4'] and _year_dic['100'] and _year_dic['400'] == False)\n",
        "print(ans[isLeaf])"
      ]
    },
    {
      "cell_type": "markdown",
      "id": "c0f8d871",
      "metadata": {
        "id": "c0f8d871"
      },
      "source": [
        "**2. 키와 몸무게를 입력받아 BMI 수치를 계산하는 프로그램을 제작하고, 새로운 값을 입력할 때마다, result_list에 결과를 추가하시오.**\n",
        "\n",
        "* 조건 : 새로운 값을 입력 할 때 마다 기존의 데이터가 삭제되지 않고 추가되어야 합니다.\n",
        "\n",
        "![image.png](attachment:image.png)"
      ]
    },
    {
      "cell_type": "code",
      "execution_count": 1,
      "id": "c1644af4",
      "metadata": {
        "id": "c1644af4"
      },
      "outputs": [],
      "source": [
        "result_list = [ ]"
      ]
    },
    {
      "cell_type": "code",
      "execution_count": 17,
      "id": "fb30b044",
      "metadata": {
        "colab": {
          "base_uri": "https://localhost:8080/",
          "height": 407
        },
        "id": "fb30b044",
        "outputId": "edabff96-1770-4f2f-b186-d03caa53863e"
      },
      "outputs": [
        {
          "output_type": "error",
          "ename": "KeyboardInterrupt",
          "evalue": "ignored",
          "traceback": [
            "\u001b[0;31m---------------------------------------------------------------------------\u001b[0m",
            "\u001b[0;31mKeyboardInterrupt\u001b[0m                         Traceback (most recent call last)",
            "\u001b[0;32m<ipython-input-17-6ba00156935f>\u001b[0m in \u001b[0;36m<cell line: 2>\u001b[0;34m()\u001b[0m\n\u001b[1;32m      1\u001b[0m \u001b[0mresult_list\u001b[0m \u001b[0;34m=\u001b[0m \u001b[0;34m[\u001b[0m\u001b[0;34m]\u001b[0m\u001b[0;34m\u001b[0m\u001b[0;34m\u001b[0m\u001b[0m\n\u001b[0;32m----> 2\u001b[0;31m \u001b[0mheight\u001b[0m \u001b[0;34m=\u001b[0m \u001b[0mint\u001b[0m\u001b[0;34m(\u001b[0m\u001b[0minput\u001b[0m\u001b[0;34m(\u001b[0m\u001b[0;34m\"키를 입력 하시오:\"\u001b[0m\u001b[0;34m)\u001b[0m\u001b[0;34m)\u001b[0m\u001b[0;34m\u001b[0m\u001b[0;34m\u001b[0m\u001b[0m\n\u001b[0m\u001b[1;32m      3\u001b[0m \u001b[0mweight\u001b[0m \u001b[0;34m=\u001b[0m \u001b[0mint\u001b[0m\u001b[0;34m(\u001b[0m\u001b[0minput\u001b[0m\u001b[0;34m(\u001b[0m\u001b[0;34m\"몸무게를 입력 하시오:\"\u001b[0m\u001b[0;34m)\u001b[0m\u001b[0;34m)\u001b[0m\u001b[0;34m\u001b[0m\u001b[0;34m\u001b[0m\u001b[0m\n\u001b[1;32m      4\u001b[0m \u001b[0mheight\u001b[0m \u001b[0;34m/=\u001b[0m\u001b[0;36m100\u001b[0m\u001b[0;34m\u001b[0m\u001b[0;34m\u001b[0m\u001b[0m\n\u001b[1;32m      5\u001b[0m \u001b[0mbmi\u001b[0m \u001b[0;34m=\u001b[0m \u001b[0mweight\u001b[0m\u001b[0;34m/\u001b[0m\u001b[0mheight\u001b[0m\u001b[0;34m**\u001b[0m\u001b[0;36m2\u001b[0m\u001b[0;34m\u001b[0m\u001b[0;34m\u001b[0m\u001b[0m\n",
            "\u001b[0;32m/usr/local/lib/python3.10/dist-packages/ipykernel/kernelbase.py\u001b[0m in \u001b[0;36mraw_input\u001b[0;34m(self, prompt)\u001b[0m\n\u001b[1;32m    849\u001b[0m                 \u001b[0;34m\"raw_input was called, but this frontend does not support input requests.\"\u001b[0m\u001b[0;34m\u001b[0m\u001b[0;34m\u001b[0m\u001b[0m\n\u001b[1;32m    850\u001b[0m             )\n\u001b[0;32m--> 851\u001b[0;31m         return self._input_request(str(prompt),\n\u001b[0m\u001b[1;32m    852\u001b[0m             \u001b[0mself\u001b[0m\u001b[0;34m.\u001b[0m\u001b[0m_parent_ident\u001b[0m\u001b[0;34m,\u001b[0m\u001b[0;34m\u001b[0m\u001b[0;34m\u001b[0m\u001b[0m\n\u001b[1;32m    853\u001b[0m             \u001b[0mself\u001b[0m\u001b[0;34m.\u001b[0m\u001b[0m_parent_header\u001b[0m\u001b[0;34m,\u001b[0m\u001b[0;34m\u001b[0m\u001b[0;34m\u001b[0m\u001b[0m\n",
            "\u001b[0;32m/usr/local/lib/python3.10/dist-packages/ipykernel/kernelbase.py\u001b[0m in \u001b[0;36m_input_request\u001b[0;34m(self, prompt, ident, parent, password)\u001b[0m\n\u001b[1;32m    893\u001b[0m             \u001b[0;32mexcept\u001b[0m \u001b[0mKeyboardInterrupt\u001b[0m\u001b[0;34m:\u001b[0m\u001b[0;34m\u001b[0m\u001b[0;34m\u001b[0m\u001b[0m\n\u001b[1;32m    894\u001b[0m                 \u001b[0;31m# re-raise KeyboardInterrupt, to truncate traceback\u001b[0m\u001b[0;34m\u001b[0m\u001b[0;34m\u001b[0m\u001b[0m\n\u001b[0;32m--> 895\u001b[0;31m                 \u001b[0;32mraise\u001b[0m \u001b[0mKeyboardInterrupt\u001b[0m\u001b[0;34m(\u001b[0m\u001b[0;34m\"Interrupted by user\"\u001b[0m\u001b[0;34m)\u001b[0m \u001b[0;32mfrom\u001b[0m \u001b[0;32mNone\u001b[0m\u001b[0;34m\u001b[0m\u001b[0;34m\u001b[0m\u001b[0m\n\u001b[0m\u001b[1;32m    896\u001b[0m             \u001b[0;32mexcept\u001b[0m \u001b[0mException\u001b[0m \u001b[0;32mas\u001b[0m \u001b[0me\u001b[0m\u001b[0;34m:\u001b[0m\u001b[0;34m\u001b[0m\u001b[0;34m\u001b[0m\u001b[0m\n\u001b[1;32m    897\u001b[0m                 \u001b[0mself\u001b[0m\u001b[0;34m.\u001b[0m\u001b[0mlog\u001b[0m\u001b[0;34m.\u001b[0m\u001b[0mwarning\u001b[0m\u001b[0;34m(\u001b[0m\u001b[0;34m\"Invalid Message:\"\u001b[0m\u001b[0;34m,\u001b[0m \u001b[0mexc_info\u001b[0m\u001b[0;34m=\u001b[0m\u001b[0;32mTrue\u001b[0m\u001b[0;34m)\u001b[0m\u001b[0;34m\u001b[0m\u001b[0;34m\u001b[0m\u001b[0m\n",
            "\u001b[0;31mKeyboardInterrupt\u001b[0m: Interrupted by user"
          ]
        }
      ],
      "source": [
        "result_list = []\n",
        "height = int(input(\"키를 입력 하시오:\"))\n",
        "weight = int(input(\"몸무게를 입력 하시오:\"))\n",
        "height /=100\n",
        "bmi = weight/height**2\n",
        "result_list.append(bmi)\n",
        "print(result_list)"
      ]
    },
    {
      "cell_type": "markdown",
      "id": "6364ebe5",
      "metadata": {
        "id": "6364ebe5"
      },
      "source": [
        "**3. A 학생의 과목별 점수가 아래와 같을 때, 이 점수를 딕셔너리 형태로 선언하고, 평균을 계산하오**\n",
        "\n",
        "* A : 국어 75, 영어 53, 수학 90, 사회 46, 한국사 60, 세계사 70, 과학, 34\n",
        "* 과목명은 Key값, 점수는 Value 값\n",
        "     "
      ]
    },
    {
      "cell_type": "code",
      "execution_count": 10,
      "id": "d1345f57",
      "metadata": {
        "colab": {
          "base_uri": "https://localhost:8080/",
          "height": 146
        },
        "id": "d1345f57",
        "outputId": "c736a5ac-2098-4a47-dd57-0bb085baeee7"
      },
      "outputs": [
        {
          "output_type": "error",
          "ename": "SyntaxError",
          "evalue": "ignored",
          "traceback": [
            "\u001b[0;36m  File \u001b[0;32m\"<ipython-input-10-2a9dd1de06ab>\"\u001b[0;36m, line \u001b[0;32m4\u001b[0m\n\u001b[0;31m    print('평균은 %.2f입니다.'%(mea\u001b[0m\n\u001b[0m                             ^\u001b[0m\n\u001b[0;31mSyntaxError\u001b[0m\u001b[0;31m:\u001b[0m incomplete input\n"
          ]
        }
      ],
      "source": [
        "grades = {\"국어\": 75,\"영어\": 53,\"수학\": 90,\"사회\": 46,\"한국사\": 60,\"세계사\": 70,\"과학\": 34}\n",
        "total = sum(grades.values())\n",
        "mean = total/len(grades)\n",
        "print('평균은 %.2f입니다.'%(mean))"
      ]
    },
    {
      "cell_type": "markdown",
      "id": "5d38df13",
      "metadata": {
        "id": "5d38df13"
      },
      "source": [
        "**4. 어떤 수를 입력했을 때, 입력한 수가 홀수이면 True, 짝수이면 False를 출력하는 프로그램을 제작하시오**\n",
        "\n",
        "* if문을 사용 하지 않고 제작"
      ]
    },
    {
      "cell_type": "code",
      "execution_count": 7,
      "id": "88dfe958",
      "metadata": {
        "colab": {
          "base_uri": "https://localhost:8080/"
        },
        "id": "88dfe958",
        "outputId": "69513fdd-fbd5-40dc-c510-f88ca65d927a"
      },
      "outputs": [
        {
          "output_type": "stream",
          "name": "stdout",
          "text": [
            "숫자를 입력하시오. :4\n",
            "False\n"
          ]
        }
      ],
      "source": [
        "a = int(input('숫자를 입력하시오. :'))\n",
        "is_odd = (a % 2 != 0)\n",
        "print(is_odd)"
      ]
    },
    {
      "cell_type": "markdown",
      "id": "39119092",
      "metadata": {
        "id": "39119092"
      },
      "source": [
        "**5. For 반복문을 이용하여, 1부터 입력받은 수 까지 제곱 합을 구하는 프로그램을 만드시오.**\n",
        "\n",
        "Ex ) 1² + 2² + 3² + 4² + ...  + n²"
      ]
    },
    {
      "cell_type": "code",
      "execution_count": 16,
      "id": "ea22214c",
      "metadata": {
        "colab": {
          "base_uri": "https://localhost:8080/"
        },
        "id": "ea22214c",
        "outputId": "d70caad0-19be-451a-8a4d-b4ab48404abe"
      },
      "outputs": [
        {
          "output_type": "stream",
          "name": "stdout",
          "text": [
            "숫자를 입력하시오.50\n",
            "42925\n"
          ]
        }
      ],
      "source": [
        "def num(a):\n",
        "    result = 0\n",
        "    for i in range(1,a+1):\n",
        "        result += i **2\n",
        "    print(result)\n",
        "\n",
        "a = int(input('숫자를 입력하시오.'))\n",
        "num(a)"
      ]
    },
    {
      "cell_type": "markdown",
      "id": "74b8ba2c",
      "metadata": {
        "id": "74b8ba2c"
      },
      "source": [
        "## Team Mission\n",
        "\n",
        "- 사무용품을 렌탈해주는 회사에서 발생한 데이터(01_Data.csv)파일을 분석하고자 합니다.\n",
        "- Excel, R, SPSS등 다른 프로그램은 사용 하지 않고, 오르지 Python으로 아래의 문제를 해결해 보세요."
      ]
    },
    {
      "cell_type": "markdown",
      "id": "2503fa9c",
      "metadata": {
        "id": "2503fa9c"
      },
      "source": [
        "**6. 데이터 파일을 df1 변수로 선언하고, 데이터의 열개수와 행개수를 계산하시오.**"
      ]
    },
    {
      "cell_type": "code",
      "execution_count": 41,
      "id": "204f4677",
      "metadata": {
        "id": "204f4677"
      },
      "outputs": [],
      "source": [
        "import pandas as pd\n",
        "df1= pd.read_csv('01_Data.csv')"
      ]
    },
    {
      "cell_type": "code",
      "source": [
        "# count raw\n",
        "print(df1.shape)"
      ],
      "metadata": {
        "colab": {
          "base_uri": "https://localhost:8080/"
        },
        "id": "kiucyF6ipHh_",
        "outputId": "bdd9d278-8047-4c78-aede-f9c7a6af9399"
      },
      "id": "kiucyF6ipHh_",
      "execution_count": 42,
      "outputs": [
        {
          "output_type": "stream",
          "name": "stdout",
          "text": [
            "(51301, 20)\n"
          ]
        }
      ]
    },
    {
      "cell_type": "markdown",
      "id": "f731c4b5",
      "metadata": {
        "id": "f731c4b5"
      },
      "source": [
        "**7. 데이터에서 고객들의 유입경로(Channel)을 분석하고자 한다. 유입경로(Channel)중 가장 많은 고객이 유입된 경로를 확인하시오.**"
      ]
    },
    {
      "cell_type": "code",
      "execution_count": 47,
      "id": "457a2c0f",
      "metadata": {
        "colab": {
          "base_uri": "https://localhost:8080/",
          "height": 35
        },
        "id": "457a2c0f",
        "outputId": "9bcfaad7-c446-4a3f-ea30-5f7da3973a99"
      },
      "outputs": [
        {
          "output_type": "execute_result",
          "data": {
            "text/plain": [
              "'영업방판'"
            ],
            "application/vnd.google.colaboratory.intrinsic+json": {
              "type": "string"
            }
          },
          "metadata": {},
          "execution_count": 47
        }
      ],
      "source": [
        "df1.value_counts('Channel').idxmax()"
      ]
    },
    {
      "cell_type": "markdown",
      "id": "e0fb8cdf",
      "metadata": {
        "id": "e0fb8cdf"
      },
      "source": [
        "**8. 데이터에서 고객들이 가장 많이 계약한 제품군(Product_Type)을 분석하고자 한다. 제품군(Product_Type)에는 어떤 데이터가 있는지 확인하시오.**"
      ]
    },
    {
      "cell_type": "code",
      "execution_count": 53,
      "id": "8ca18172",
      "metadata": {
        "colab": {
          "base_uri": "https://localhost:8080/",
          "height": 686
        },
        "id": "8ca18172",
        "outputId": "07c373d2-bd0e-4703-a67f-43e75ecb588d"
      },
      "outputs": [
        {
          "output_type": "execute_result",
          "data": {
            "text/plain": [
              "       Index  Member_ID Sales_Type Contract_Type Channel    Datetime  Term  \\\n",
              "0          1   66758234         렌탈          일반계약    영업방판  2019-05-06    60   \n",
              "1          2   66755948         렌탈          교체계약    영업방판  2020-02-20    60   \n",
              "2          3   66756657         렌탈          일반계약  홈쇼핑/방송  2019-02-28    60   \n",
              "3          4   66423450        멤버십        멤버십3유형     재계약  2019-05-13    12   \n",
              "4          5   66423204        멤버십        멤버십3유형     재계약  2019-05-10    12   \n",
              "...      ...        ...        ...           ...     ...         ...   ...   \n",
              "51293  51295   66799369         렌탈          일반계약   대형마트A  2020-07-10    60   \n",
              "51295  51297   66792261         렌탈          일반계약  홈쇼핑/방송  2019-03-11    60   \n",
              "51297  51299   66799558         렌탈          일반계약   대형마트A  2019-04-01    60   \n",
              "51299  51301   66792778         렌탈          일반계약  홈쇼핑/방송  2020-02-06    60   \n",
              "51300  51302   66799607         렌탈          일반계약  홈쇼핑/방송  2019-04-24    60   \n",
              "\n",
              "      Payment_Type Product_Type  Amount_Month Customer_Type   Age Address1  \\\n",
              "0              CMS        DES-1         96900            개인  42.0      경기도   \n",
              "1             카드이체        DES-1        102900            개인  39.0      경기도   \n",
              "2              CMS        DES-1         96900            개인  48.0      경기도   \n",
              "3              CMS        DES-1         66900            개인  39.0      경기도   \n",
              "4              CMS        DES-1         66900            개인  60.0      경기도   \n",
              "...            ...          ...           ...           ...   ...      ...   \n",
              "51293          CMS        DES-1         96900            개인  74.0      경기도   \n",
              "51295         카드이체        DES-1         96900            개인  45.0      경기도   \n",
              "51297          CMS        DES-1         96900            개인  42.0      경기도   \n",
              "51299         카드이체        DES-1         96900            개인  54.0    서울특별시   \n",
              "51300          CMS        DES-1         96900            개인  53.0    서울특별시   \n",
              "\n",
              "      Address2 State  Overdue_count Overdue_Type Gender  Credit_Rank    Bank  \n",
              "0          경기도  계약확정              0           없음     여자          9.0   새마을금고  \n",
              "1          경기도  계약확정              0           없음     남자          2.0    현대카드  \n",
              "2          경기도  계약확정              0           없음     여자          8.0    우리은행  \n",
              "3          경기도  계약확정              0           없음     남자          5.0  농협회원조합  \n",
              "4          경기도  기간만료             12           있음     남자          8.0  농협회원조합  \n",
              "...        ...   ...            ...          ...    ...          ...     ...  \n",
              "51293      경기도  계약확정              0           없음     여자          1.0    국민은행  \n",
              "51295      경기도  계약확정              0           없음     여자          1.0    롯데카드  \n",
              "51297      경기도  계약확정              0           없음     여자          8.0   새마을금고  \n",
              "51299    서울특별시  계약확정              0           없음     여자          2.0    롯데카드  \n",
              "51300    서울특별시  계약확정              0           없음     여자          8.0    신한은행  \n",
              "\n",
              "[39133 rows x 20 columns]"
            ],
            "text/html": [
              "\n",
              "  <div id=\"df-92125c6a-295a-4d2d-b892-618331b6f01a\" class=\"colab-df-container\">\n",
              "    <div>\n",
              "<style scoped>\n",
              "    .dataframe tbody tr th:only-of-type {\n",
              "        vertical-align: middle;\n",
              "    }\n",
              "\n",
              "    .dataframe tbody tr th {\n",
              "        vertical-align: top;\n",
              "    }\n",
              "\n",
              "    .dataframe thead th {\n",
              "        text-align: right;\n",
              "    }\n",
              "</style>\n",
              "<table border=\"1\" class=\"dataframe\">\n",
              "  <thead>\n",
              "    <tr style=\"text-align: right;\">\n",
              "      <th></th>\n",
              "      <th>Index</th>\n",
              "      <th>Member_ID</th>\n",
              "      <th>Sales_Type</th>\n",
              "      <th>Contract_Type</th>\n",
              "      <th>Channel</th>\n",
              "      <th>Datetime</th>\n",
              "      <th>Term</th>\n",
              "      <th>Payment_Type</th>\n",
              "      <th>Product_Type</th>\n",
              "      <th>Amount_Month</th>\n",
              "      <th>Customer_Type</th>\n",
              "      <th>Age</th>\n",
              "      <th>Address1</th>\n",
              "      <th>Address2</th>\n",
              "      <th>State</th>\n",
              "      <th>Overdue_count</th>\n",
              "      <th>Overdue_Type</th>\n",
              "      <th>Gender</th>\n",
              "      <th>Credit_Rank</th>\n",
              "      <th>Bank</th>\n",
              "    </tr>\n",
              "  </thead>\n",
              "  <tbody>\n",
              "    <tr>\n",
              "      <th>0</th>\n",
              "      <td>1</td>\n",
              "      <td>66758234</td>\n",
              "      <td>렌탈</td>\n",
              "      <td>일반계약</td>\n",
              "      <td>영업방판</td>\n",
              "      <td>2019-05-06</td>\n",
              "      <td>60</td>\n",
              "      <td>CMS</td>\n",
              "      <td>DES-1</td>\n",
              "      <td>96900</td>\n",
              "      <td>개인</td>\n",
              "      <td>42.0</td>\n",
              "      <td>경기도</td>\n",
              "      <td>경기도</td>\n",
              "      <td>계약확정</td>\n",
              "      <td>0</td>\n",
              "      <td>없음</td>\n",
              "      <td>여자</td>\n",
              "      <td>9.0</td>\n",
              "      <td>새마을금고</td>\n",
              "    </tr>\n",
              "    <tr>\n",
              "      <th>1</th>\n",
              "      <td>2</td>\n",
              "      <td>66755948</td>\n",
              "      <td>렌탈</td>\n",
              "      <td>교체계약</td>\n",
              "      <td>영업방판</td>\n",
              "      <td>2020-02-20</td>\n",
              "      <td>60</td>\n",
              "      <td>카드이체</td>\n",
              "      <td>DES-1</td>\n",
              "      <td>102900</td>\n",
              "      <td>개인</td>\n",
              "      <td>39.0</td>\n",
              "      <td>경기도</td>\n",
              "      <td>경기도</td>\n",
              "      <td>계약확정</td>\n",
              "      <td>0</td>\n",
              "      <td>없음</td>\n",
              "      <td>남자</td>\n",
              "      <td>2.0</td>\n",
              "      <td>현대카드</td>\n",
              "    </tr>\n",
              "    <tr>\n",
              "      <th>2</th>\n",
              "      <td>3</td>\n",
              "      <td>66756657</td>\n",
              "      <td>렌탈</td>\n",
              "      <td>일반계약</td>\n",
              "      <td>홈쇼핑/방송</td>\n",
              "      <td>2019-02-28</td>\n",
              "      <td>60</td>\n",
              "      <td>CMS</td>\n",
              "      <td>DES-1</td>\n",
              "      <td>96900</td>\n",
              "      <td>개인</td>\n",
              "      <td>48.0</td>\n",
              "      <td>경기도</td>\n",
              "      <td>경기도</td>\n",
              "      <td>계약확정</td>\n",
              "      <td>0</td>\n",
              "      <td>없음</td>\n",
              "      <td>여자</td>\n",
              "      <td>8.0</td>\n",
              "      <td>우리은행</td>\n",
              "    </tr>\n",
              "    <tr>\n",
              "      <th>3</th>\n",
              "      <td>4</td>\n",
              "      <td>66423450</td>\n",
              "      <td>멤버십</td>\n",
              "      <td>멤버십3유형</td>\n",
              "      <td>재계약</td>\n",
              "      <td>2019-05-13</td>\n",
              "      <td>12</td>\n",
              "      <td>CMS</td>\n",
              "      <td>DES-1</td>\n",
              "      <td>66900</td>\n",
              "      <td>개인</td>\n",
              "      <td>39.0</td>\n",
              "      <td>경기도</td>\n",
              "      <td>경기도</td>\n",
              "      <td>계약확정</td>\n",
              "      <td>0</td>\n",
              "      <td>없음</td>\n",
              "      <td>남자</td>\n",
              "      <td>5.0</td>\n",
              "      <td>농협회원조합</td>\n",
              "    </tr>\n",
              "    <tr>\n",
              "      <th>4</th>\n",
              "      <td>5</td>\n",
              "      <td>66423204</td>\n",
              "      <td>멤버십</td>\n",
              "      <td>멤버십3유형</td>\n",
              "      <td>재계약</td>\n",
              "      <td>2019-05-10</td>\n",
              "      <td>12</td>\n",
              "      <td>CMS</td>\n",
              "      <td>DES-1</td>\n",
              "      <td>66900</td>\n",
              "      <td>개인</td>\n",
              "      <td>60.0</td>\n",
              "      <td>경기도</td>\n",
              "      <td>경기도</td>\n",
              "      <td>기간만료</td>\n",
              "      <td>12</td>\n",
              "      <td>있음</td>\n",
              "      <td>남자</td>\n",
              "      <td>8.0</td>\n",
              "      <td>농협회원조합</td>\n",
              "    </tr>\n",
              "    <tr>\n",
              "      <th>...</th>\n",
              "      <td>...</td>\n",
              "      <td>...</td>\n",
              "      <td>...</td>\n",
              "      <td>...</td>\n",
              "      <td>...</td>\n",
              "      <td>...</td>\n",
              "      <td>...</td>\n",
              "      <td>...</td>\n",
              "      <td>...</td>\n",
              "      <td>...</td>\n",
              "      <td>...</td>\n",
              "      <td>...</td>\n",
              "      <td>...</td>\n",
              "      <td>...</td>\n",
              "      <td>...</td>\n",
              "      <td>...</td>\n",
              "      <td>...</td>\n",
              "      <td>...</td>\n",
              "      <td>...</td>\n",
              "      <td>...</td>\n",
              "    </tr>\n",
              "    <tr>\n",
              "      <th>51293</th>\n",
              "      <td>51295</td>\n",
              "      <td>66799369</td>\n",
              "      <td>렌탈</td>\n",
              "      <td>일반계약</td>\n",
              "      <td>대형마트A</td>\n",
              "      <td>2020-07-10</td>\n",
              "      <td>60</td>\n",
              "      <td>CMS</td>\n",
              "      <td>DES-1</td>\n",
              "      <td>96900</td>\n",
              "      <td>개인</td>\n",
              "      <td>74.0</td>\n",
              "      <td>경기도</td>\n",
              "      <td>경기도</td>\n",
              "      <td>계약확정</td>\n",
              "      <td>0</td>\n",
              "      <td>없음</td>\n",
              "      <td>여자</td>\n",
              "      <td>1.0</td>\n",
              "      <td>국민은행</td>\n",
              "    </tr>\n",
              "    <tr>\n",
              "      <th>51295</th>\n",
              "      <td>51297</td>\n",
              "      <td>66792261</td>\n",
              "      <td>렌탈</td>\n",
              "      <td>일반계약</td>\n",
              "      <td>홈쇼핑/방송</td>\n",
              "      <td>2019-03-11</td>\n",
              "      <td>60</td>\n",
              "      <td>카드이체</td>\n",
              "      <td>DES-1</td>\n",
              "      <td>96900</td>\n",
              "      <td>개인</td>\n",
              "      <td>45.0</td>\n",
              "      <td>경기도</td>\n",
              "      <td>경기도</td>\n",
              "      <td>계약확정</td>\n",
              "      <td>0</td>\n",
              "      <td>없음</td>\n",
              "      <td>여자</td>\n",
              "      <td>1.0</td>\n",
              "      <td>롯데카드</td>\n",
              "    </tr>\n",
              "    <tr>\n",
              "      <th>51297</th>\n",
              "      <td>51299</td>\n",
              "      <td>66799558</td>\n",
              "      <td>렌탈</td>\n",
              "      <td>일반계약</td>\n",
              "      <td>대형마트A</td>\n",
              "      <td>2019-04-01</td>\n",
              "      <td>60</td>\n",
              "      <td>CMS</td>\n",
              "      <td>DES-1</td>\n",
              "      <td>96900</td>\n",
              "      <td>개인</td>\n",
              "      <td>42.0</td>\n",
              "      <td>경기도</td>\n",
              "      <td>경기도</td>\n",
              "      <td>계약확정</td>\n",
              "      <td>0</td>\n",
              "      <td>없음</td>\n",
              "      <td>여자</td>\n",
              "      <td>8.0</td>\n",
              "      <td>새마을금고</td>\n",
              "    </tr>\n",
              "    <tr>\n",
              "      <th>51299</th>\n",
              "      <td>51301</td>\n",
              "      <td>66792778</td>\n",
              "      <td>렌탈</td>\n",
              "      <td>일반계약</td>\n",
              "      <td>홈쇼핑/방송</td>\n",
              "      <td>2020-02-06</td>\n",
              "      <td>60</td>\n",
              "      <td>카드이체</td>\n",
              "      <td>DES-1</td>\n",
              "      <td>96900</td>\n",
              "      <td>개인</td>\n",
              "      <td>54.0</td>\n",
              "      <td>서울특별시</td>\n",
              "      <td>서울특별시</td>\n",
              "      <td>계약확정</td>\n",
              "      <td>0</td>\n",
              "      <td>없음</td>\n",
              "      <td>여자</td>\n",
              "      <td>2.0</td>\n",
              "      <td>롯데카드</td>\n",
              "    </tr>\n",
              "    <tr>\n",
              "      <th>51300</th>\n",
              "      <td>51302</td>\n",
              "      <td>66799607</td>\n",
              "      <td>렌탈</td>\n",
              "      <td>일반계약</td>\n",
              "      <td>홈쇼핑/방송</td>\n",
              "      <td>2019-04-24</td>\n",
              "      <td>60</td>\n",
              "      <td>CMS</td>\n",
              "      <td>DES-1</td>\n",
              "      <td>96900</td>\n",
              "      <td>개인</td>\n",
              "      <td>53.0</td>\n",
              "      <td>서울특별시</td>\n",
              "      <td>서울특별시</td>\n",
              "      <td>계약확정</td>\n",
              "      <td>0</td>\n",
              "      <td>없음</td>\n",
              "      <td>여자</td>\n",
              "      <td>8.0</td>\n",
              "      <td>신한은행</td>\n",
              "    </tr>\n",
              "  </tbody>\n",
              "</table>\n",
              "<p>39133 rows × 20 columns</p>\n",
              "</div>\n",
              "    <div class=\"colab-df-buttons\">\n",
              "\n",
              "  <div class=\"colab-df-container\">\n",
              "    <button class=\"colab-df-convert\" onclick=\"convertToInteractive('df-92125c6a-295a-4d2d-b892-618331b6f01a')\"\n",
              "            title=\"Convert this dataframe to an interactive table.\"\n",
              "            style=\"display:none;\">\n",
              "\n",
              "  <svg xmlns=\"http://www.w3.org/2000/svg\" height=\"24px\" viewBox=\"0 -960 960 960\">\n",
              "    <path d=\"M120-120v-720h720v720H120Zm60-500h600v-160H180v160Zm220 220h160v-160H400v160Zm0 220h160v-160H400v160ZM180-400h160v-160H180v160Zm440 0h160v-160H620v160ZM180-180h160v-160H180v160Zm440 0h160v-160H620v160Z\"/>\n",
              "  </svg>\n",
              "    </button>\n",
              "\n",
              "  <style>\n",
              "    .colab-df-container {\n",
              "      display:flex;\n",
              "      gap: 12px;\n",
              "    }\n",
              "\n",
              "    .colab-df-convert {\n",
              "      background-color: #E8F0FE;\n",
              "      border: none;\n",
              "      border-radius: 50%;\n",
              "      cursor: pointer;\n",
              "      display: none;\n",
              "      fill: #1967D2;\n",
              "      height: 32px;\n",
              "      padding: 0 0 0 0;\n",
              "      width: 32px;\n",
              "    }\n",
              "\n",
              "    .colab-df-convert:hover {\n",
              "      background-color: #E2EBFA;\n",
              "      box-shadow: 0px 1px 2px rgba(60, 64, 67, 0.3), 0px 1px 3px 1px rgba(60, 64, 67, 0.15);\n",
              "      fill: #174EA6;\n",
              "    }\n",
              "\n",
              "    .colab-df-buttons div {\n",
              "      margin-bottom: 4px;\n",
              "    }\n",
              "\n",
              "    [theme=dark] .colab-df-convert {\n",
              "      background-color: #3B4455;\n",
              "      fill: #D2E3FC;\n",
              "    }\n",
              "\n",
              "    [theme=dark] .colab-df-convert:hover {\n",
              "      background-color: #434B5C;\n",
              "      box-shadow: 0px 1px 3px 1px rgba(0, 0, 0, 0.15);\n",
              "      filter: drop-shadow(0px 1px 2px rgba(0, 0, 0, 0.3));\n",
              "      fill: #FFFFFF;\n",
              "    }\n",
              "  </style>\n",
              "\n",
              "    <script>\n",
              "      const buttonEl =\n",
              "        document.querySelector('#df-92125c6a-295a-4d2d-b892-618331b6f01a button.colab-df-convert');\n",
              "      buttonEl.style.display =\n",
              "        google.colab.kernel.accessAllowed ? 'block' : 'none';\n",
              "\n",
              "      async function convertToInteractive(key) {\n",
              "        const element = document.querySelector('#df-92125c6a-295a-4d2d-b892-618331b6f01a');\n",
              "        const dataTable =\n",
              "          await google.colab.kernel.invokeFunction('convertToInteractive',\n",
              "                                                    [key], {});\n",
              "        if (!dataTable) return;\n",
              "\n",
              "        const docLinkHtml = 'Like what you see? Visit the ' +\n",
              "          '<a target=\"_blank\" href=https://colab.research.google.com/notebooks/data_table.ipynb>data table notebook</a>'\n",
              "          + ' to learn more about interactive tables.';\n",
              "        element.innerHTML = '';\n",
              "        dataTable['output_type'] = 'display_data';\n",
              "        await google.colab.output.renderOutput(dataTable, element);\n",
              "        const docLink = document.createElement('div');\n",
              "        docLink.innerHTML = docLinkHtml;\n",
              "        element.appendChild(docLink);\n",
              "      }\n",
              "    </script>\n",
              "  </div>\n",
              "\n",
              "\n",
              "<div id=\"df-2ce319cf-3518-44bb-bb2a-a7f6ad8f7b2d\">\n",
              "  <button class=\"colab-df-quickchart\" onclick=\"quickchart('df-2ce319cf-3518-44bb-bb2a-a7f6ad8f7b2d')\"\n",
              "            title=\"Suggest charts.\"\n",
              "            style=\"display:none;\">\n",
              "\n",
              "<svg xmlns=\"http://www.w3.org/2000/svg\" height=\"24px\"viewBox=\"0 0 24 24\"\n",
              "     width=\"24px\">\n",
              "    <g>\n",
              "        <path d=\"M19 3H5c-1.1 0-2 .9-2 2v14c0 1.1.9 2 2 2h14c1.1 0 2-.9 2-2V5c0-1.1-.9-2-2-2zM9 17H7v-7h2v7zm4 0h-2V7h2v10zm4 0h-2v-4h2v4z\"/>\n",
              "    </g>\n",
              "</svg>\n",
              "  </button>\n",
              "\n",
              "<style>\n",
              "  .colab-df-quickchart {\n",
              "      --bg-color: #E8F0FE;\n",
              "      --fill-color: #1967D2;\n",
              "      --hover-bg-color: #E2EBFA;\n",
              "      --hover-fill-color: #174EA6;\n",
              "      --disabled-fill-color: #AAA;\n",
              "      --disabled-bg-color: #DDD;\n",
              "  }\n",
              "\n",
              "  [theme=dark] .colab-df-quickchart {\n",
              "      --bg-color: #3B4455;\n",
              "      --fill-color: #D2E3FC;\n",
              "      --hover-bg-color: #434B5C;\n",
              "      --hover-fill-color: #FFFFFF;\n",
              "      --disabled-bg-color: #3B4455;\n",
              "      --disabled-fill-color: #666;\n",
              "  }\n",
              "\n",
              "  .colab-df-quickchart {\n",
              "    background-color: var(--bg-color);\n",
              "    border: none;\n",
              "    border-radius: 50%;\n",
              "    cursor: pointer;\n",
              "    display: none;\n",
              "    fill: var(--fill-color);\n",
              "    height: 32px;\n",
              "    padding: 0;\n",
              "    width: 32px;\n",
              "  }\n",
              "\n",
              "  .colab-df-quickchart:hover {\n",
              "    background-color: var(--hover-bg-color);\n",
              "    box-shadow: 0 1px 2px rgba(60, 64, 67, 0.3), 0 1px 3px 1px rgba(60, 64, 67, 0.15);\n",
              "    fill: var(--button-hover-fill-color);\n",
              "  }\n",
              "\n",
              "  .colab-df-quickchart-complete:disabled,\n",
              "  .colab-df-quickchart-complete:disabled:hover {\n",
              "    background-color: var(--disabled-bg-color);\n",
              "    fill: var(--disabled-fill-color);\n",
              "    box-shadow: none;\n",
              "  }\n",
              "\n",
              "  .colab-df-spinner {\n",
              "    border: 2px solid var(--fill-color);\n",
              "    border-color: transparent;\n",
              "    border-bottom-color: var(--fill-color);\n",
              "    animation:\n",
              "      spin 1s steps(1) infinite;\n",
              "  }\n",
              "\n",
              "  @keyframes spin {\n",
              "    0% {\n",
              "      border-color: transparent;\n",
              "      border-bottom-color: var(--fill-color);\n",
              "      border-left-color: var(--fill-color);\n",
              "    }\n",
              "    20% {\n",
              "      border-color: transparent;\n",
              "      border-left-color: var(--fill-color);\n",
              "      border-top-color: var(--fill-color);\n",
              "    }\n",
              "    30% {\n",
              "      border-color: transparent;\n",
              "      border-left-color: var(--fill-color);\n",
              "      border-top-color: var(--fill-color);\n",
              "      border-right-color: var(--fill-color);\n",
              "    }\n",
              "    40% {\n",
              "      border-color: transparent;\n",
              "      border-right-color: var(--fill-color);\n",
              "      border-top-color: var(--fill-color);\n",
              "    }\n",
              "    60% {\n",
              "      border-color: transparent;\n",
              "      border-right-color: var(--fill-color);\n",
              "    }\n",
              "    80% {\n",
              "      border-color: transparent;\n",
              "      border-right-color: var(--fill-color);\n",
              "      border-bottom-color: var(--fill-color);\n",
              "    }\n",
              "    90% {\n",
              "      border-color: transparent;\n",
              "      border-bottom-color: var(--fill-color);\n",
              "    }\n",
              "  }\n",
              "</style>\n",
              "\n",
              "  <script>\n",
              "    async function quickchart(key) {\n",
              "      const quickchartButtonEl =\n",
              "        document.querySelector('#' + key + ' button');\n",
              "      quickchartButtonEl.disabled = true;  // To prevent multiple clicks.\n",
              "      quickchartButtonEl.classList.add('colab-df-spinner');\n",
              "      try {\n",
              "        const charts = await google.colab.kernel.invokeFunction(\n",
              "            'suggestCharts', [key], {});\n",
              "      } catch (error) {\n",
              "        console.error('Error during call to suggestCharts:', error);\n",
              "      }\n",
              "      quickchartButtonEl.classList.remove('colab-df-spinner');\n",
              "      quickchartButtonEl.classList.add('colab-df-quickchart-complete');\n",
              "    }\n",
              "    (() => {\n",
              "      let quickchartButtonEl =\n",
              "        document.querySelector('#df-2ce319cf-3518-44bb-bb2a-a7f6ad8f7b2d button');\n",
              "      quickchartButtonEl.style.display =\n",
              "        google.colab.kernel.accessAllowed ? 'block' : 'none';\n",
              "    })();\n",
              "  </script>\n",
              "</div>\n",
              "    </div>\n",
              "  </div>\n"
            ]
          },
          "metadata": {},
          "execution_count": 53
        }
      ],
      "source": [
        "x = df1.value_counts('Product_Type').idxmax()\n",
        "df1[df1['Product_Type'] == x]"
      ]
    },
    {
      "cell_type": "markdown",
      "id": "a00f2a51",
      "metadata": {
        "id": "a00f2a51"
      },
      "source": [
        "**9. 데이터에서 고객들이 결제하는 은행(Bank)를 확인하고자 한다. 결제은행(Bank)항목에서 '신한카드'로 결제하는 고객들의 수를 확인하시오.**"
      ]
    },
    {
      "cell_type": "code",
      "execution_count": 57,
      "id": "406dfc7d",
      "metadata": {
        "colab": {
          "base_uri": "https://localhost:8080/"
        },
        "id": "406dfc7d",
        "outputId": "5aa0ef59-3f14-42e8-f331-f55fe3a70018"
      },
      "outputs": [
        {
          "output_type": "execute_result",
          "data": {
            "text/plain": [
              "1532"
            ]
          },
          "metadata": {},
          "execution_count": 57
        }
      ],
      "source": [
        "len(df1[df1['Bank'] == '신한카드'])"
      ]
    },
    {
      "cell_type": "markdown",
      "id": "ff17a5f8",
      "metadata": {
        "id": "ff17a5f8"
      },
      "source": [
        "**10. 데이터에서 고객들이 월별로 지출하는, 월랜탈비용(Amount_Month)를 분석하고자 한다. 월랜탈비용(Amount_Month)과 계약기간(Term)을 곱하여, 한명의 고객이 지불하는 총 계약금액을 계산하고, 새로운 파생변수로 (Total_Amount)로 선언 하시오.**"
      ]
    },
    {
      "cell_type": "code",
      "execution_count": 58,
      "id": "842d27b1",
      "metadata": {
        "id": "842d27b1"
      },
      "outputs": [],
      "source": [
        "df1['Total_Amount'] = df1['Amount_Month'] * df1['Term']"
      ]
    },
    {
      "cell_type": "markdown",
      "id": "199463be",
      "metadata": {
        "id": "199463be"
      },
      "source": [
        "**11. 유입경로(Channel)에서 '영업방판'으로 유입된 고객들을 분석하고자 한다.'영업방판'으로 유입된 고객들의 월랜탈비용(Amount_Month)의 평균(mean)과 중앙값(median)의 차이를 계산 하시오.**"
      ]
    },
    {
      "cell_type": "code",
      "execution_count": 65,
      "id": "59190f1f",
      "metadata": {
        "colab": {
          "base_uri": "https://localhost:8080/"
        },
        "id": "59190f1f",
        "outputId": "743e9c91-ccb7-46be-af67-366248b47a33"
      },
      "outputs": [
        {
          "output_type": "stream",
          "name": "stdout",
          "text": [
            "3422.794631211349\n"
          ]
        }
      ],
      "source": [
        "print(df1[df1['Channel'] == '영업방판']['Amount_Month'].mean() - df1[df1['Channel'] == '영업방판']['Amount_Month'].median())"
      ]
    },
    {
      "cell_type": "markdown",
      "id": "9b6edc88",
      "metadata": {
        "id": "9b6edc88"
      },
      "source": [
        "**12. 유입경로(Channel)에서 '영업방판'으로 유입된 고객들 중, 제품군(Product_Type) 별 월랜탈비용(Amount_Month)의 합(sum)을 계산하여 result3.xlsx 파일로 저장하시오.**"
      ]
    },
    {
      "cell_type": "code",
      "execution_count": 68,
      "id": "63ccc1fb",
      "metadata": {
        "id": "63ccc1fb"
      },
      "outputs": [],
      "source": [
        "result3=df1[df1['Channel'] == '영업방판'].groupby('Product_Type')['Amount_Month'].sum()\n",
        "result3.to_excel('result3.xlsx')"
      ]
    },
    {
      "cell_type": "markdown",
      "id": "4f416267",
      "metadata": {
        "id": "4f416267"
      },
      "source": [
        "**13. 유입경로(Channel)에서 '대형마트A'로 유입된 고객들 중, 연체건수(Overdue_count)가 높은 상위 30명의 계약 명단을 추출하여 result4.xlsx 저장하시오.**"
      ]
    },
    {
      "cell_type": "code",
      "execution_count": 74,
      "id": "84f51c83",
      "metadata": {
        "id": "84f51c83"
      },
      "outputs": [],
      "source": [
        "result4= df1[df1['Channel'] == '대형마트A']['Overdue_count'].sort_values(ascending=False).head(30)\n",
        "result4.to_excel('result4.xlsx')"
      ]
    },
    {
      "cell_type": "markdown",
      "id": "3d84d445",
      "metadata": {
        "id": "3d84d445"
      },
      "source": [
        "**14. 월랜탈비용(Amount_Month)이 15만원 이상인 고객들 중 판매유형(Sales_Type)이 '렌탈'에 해당하는 고객만 추출하여, 해당 데이터의 행(index) 개수를 확인하시오.**"
      ]
    },
    {
      "cell_type": "code",
      "execution_count": 84,
      "id": "43997646",
      "metadata": {
        "colab": {
          "base_uri": "https://localhost:8080/"
        },
        "id": "43997646",
        "outputId": "40256f62-8bea-4106-ba26-da24416890c2"
      },
      "outputs": [
        {
          "output_type": "execute_result",
          "data": {
            "text/plain": [
              "141"
            ]
          },
          "metadata": {},
          "execution_count": 84
        }
      ],
      "source": [
        "cond1 = df1['Amount_Month']>=150000\n",
        "cond2 = df1['Sales_Type']=='렌탈'\n",
        "df1[cond1 & cond2].shape[0]"
      ]
    },
    {
      "cell_type": "markdown",
      "id": "8bfe668c",
      "metadata": {
        "id": "8bfe668c"
      },
      "source": [
        "**15. 제품군(Product_Type)중 빈도수가 가장 높은 상위 3개의 항목을 추출하여, df2로 선언한 뒤, 계약일자(Datetime)에 따른 월렌탈비용(Amount_Month)의 합을 계산해 result5.xlsx파일로 저장하시오.**"
      ]
    },
    {
      "cell_type": "code",
      "execution_count": 117,
      "id": "e6f92704",
      "metadata": {
        "id": "e6f92704"
      },
      "outputs": [],
      "source": [
        "df2 = df1[df1['Product_Type'].isin(df1['Product_Type'].value_counts().index[:3])]\n",
        "\n",
        "result5 = df2.groupby('Datetime')['Amount_Month'].sum()\n",
        "result5.to_excel('result5.xlsx')"
      ]
    },
    {
      "cell_type": "markdown",
      "id": "80007031",
      "metadata": {
        "id": "80007031"
      },
      "source": [
        "**수고많으셨습니다♥**"
      ]
    }
  ],
  "metadata": {
    "kernelspec": {
      "display_name": "Python 3 (ipykernel)",
      "language": "python",
      "name": "python3"
    },
    "language_info": {
      "codemirror_mode": {
        "name": "ipython",
        "version": 3
      },
      "file_extension": ".py",
      "mimetype": "text/x-python",
      "name": "python",
      "nbconvert_exporter": "python",
      "pygments_lexer": "ipython3",
      "version": "3.9.13"
    },
    "colab": {
      "provenance": []
    }
  },
  "nbformat": 4,
  "nbformat_minor": 5
}