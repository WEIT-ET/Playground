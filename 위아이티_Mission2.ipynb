{
  "cells": [
    {
      "cell_type": "markdown",
      "metadata": {
        "id": "JA2FriF5nNFb"
      },
      "source": [
        "# Mission 2\n",
        "\n",
        "- 첨부된 데이터는 다이어트 식품을 판매하는 어플리케이션 회사에서 나온 고객 결제 데이터 입니다. 고객들이 온라인 마케팅으로 유입된 채널에 따라, 결제를 완료한 고객도 있고, 유입이 되었으나 이탈한 고객도 있습니다. 이 데이터로 아래의 미션을 수행보세요.  \n",
        "- 먼저 개인적으로 풀어본 다음, 팀별로 모여 문제를 풀어보세요.\n",
        "- Chat GPT와 책, 유튜브 등 여러 자료를 활용하여 최대한 풀어보세요.\n",
        "- 기한 : 2023년 11/30 23:59 까지\n",
        "- 제출처 : woghkszhf@naver.com"
      ]
    },
    {
      "cell_type": "markdown",
      "metadata": {
        "id": "T5BlW9ytnNFh"
      },
      "source": [
        "### 1. 02_Data.csv파일을 불러와, df1으로 선언하고 데이터의 구조와 타입을 확인하시오."
      ]
    },
    {
      "cell_type": "code",
      "execution_count": 3,
      "metadata": {
        "colab": {
          "base_uri": "https://localhost:8080/"
        },
        "id": "8rTbRVi3nNFj",
        "outputId": "1dbdb169-9800-4ad8-fa2b-e5c61204659a"
      },
      "outputs": [
        {
          "output_type": "stream",
          "name": "stdout",
          "text": [
            "<class 'pandas.core.frame.DataFrame'>\n",
            "RangeIndex: 10000 entries, 0 to 9999\n",
            "Data columns (total 10 columns):\n",
            " #   Column      Non-Null Count  Dtype \n",
            "---  ------      --------------  ----- \n",
            " 0   회원코드        10000 non-null  object\n",
            " 1   프로그램        10000 non-null  object\n",
            " 2   상태          10000 non-null  object\n",
            " 3   프로그램가격      10000 non-null  int64 \n",
            " 4   최종결제금액      10000 non-null  int64 \n",
            " 5   결제시각        10000 non-null  object\n",
            " 6   결제유형        10000 non-null  object\n",
            " 7   채널          10000 non-null  object\n",
            " 8   보조식품가격      10000 non-null  int64 \n",
            " 9   보조식품(추가구매)  10000 non-null  object\n",
            "dtypes: int64(3), object(7)\n",
            "memory usage: 781.4+ KB\n"
          ]
        }
      ],
      "source": [
        "import pandas as pd\n",
        "df1 = pd.read_csv('미션2_데이터.csv')\n",
        "df1.info()"
      ]
    },
    {
      "cell_type": "markdown",
      "metadata": {
        "id": "fsUDvdeFnNFj"
      },
      "source": [
        "### 2. '프로그램가격'의 평균, 최대값, 최소값을 확인하시오."
      ]
    },
    {
      "cell_type": "code",
      "execution_count": 9,
      "metadata": {
        "colab": {
          "base_uri": "https://localhost:8080/"
        },
        "id": "T3HhxR2NnNFk",
        "outputId": "f8077705-a80d-4ed3-8a47-88cbb804c9a6"
      },
      "outputs": [
        {
          "output_type": "stream",
          "name": "stdout",
          "text": [
            "평균: 107778.024\n",
            "최대값: 177000\n",
            "최소값: 44780\n"
          ]
        }
      ],
      "source": [
        "print('평균:',df1['프로그램가격'].mean())\n",
        "print('최대값:',df1['프로그램가격'].max())\n",
        "print('최소값:',df1['프로그램가격'].min())"
      ]
    },
    {
      "cell_type": "markdown",
      "metadata": {
        "id": "rp3zviP7nNFk"
      },
      "source": [
        "### 3. '채널'의 항목과 빈도수를 확인하고, '채널'별 '최종결제금액'의 합을 계산하여, result1.xlsx로 저장하시오."
      ]
    },
    {
      "cell_type": "code",
      "execution_count": 117,
      "metadata": {
        "colab": {
          "base_uri": "https://localhost:8080/"
        },
        "id": "-_VicE3nnNFk",
        "outputId": "f49efb38-46b1-459d-ff8b-2a82edbf41f4"
      },
      "outputs": [
        {
          "output_type": "stream",
          "name": "stdout",
          "text": [
            "facebook     6880\n",
            "others       1390\n",
            "naver        1009\n",
            "direct        297\n",
            "email         271\n",
            "google        120\n",
            "instagram      33\n",
            "Name: 채널, dtype: int64\n"
          ]
        }
      ],
      "source": [
        "print(df1['채널'].value_counts())\n",
        "result1 = total_payment_by_channel = df1.groupby('채널')['최종결제금액'].sum()\n",
        "result1.to_excel('result1.xlsx')"
      ]
    },
    {
      "cell_type": "markdown",
      "metadata": {
        "id": "m-C1WBLlnNFl"
      },
      "source": [
        "### 4. '채널'의 빈도수가 높은 상위 3개 항목을 뽑아, 해당 데이터의 '보조식품(추가구매)'에 따른 '최종결제금액'의 합과 평균을 계산하시오.  "
      ]
    },
    {
      "cell_type": "code",
      "execution_count": 114,
      "metadata": {
        "colab": {
          "base_uri": "https://localhost:8080/"
        },
        "id": "KaAL4VPcnNFl",
        "outputId": "532ab6c2-679a-4c0d-8765-2397ec454862"
      },
      "outputs": [
        {
          "output_type": "stream",
          "name": "stdout",
          "text": [
            "합: 1085977900\n",
            "평균 117036.09225132018\n"
          ]
        }
      ],
      "source": [
        "indexs = df1['채널'].value_counts()[:3].index\n",
        "df2 = df1[df1['채널'].isin(indexs)]\n",
        "print('합:',sum(df2['최종결제금액']))\n",
        "print('평균',(df2['최종결제금액']).mean())\n"
      ]
    },
    {
      "cell_type": "markdown",
      "metadata": {
        "id": "GeFhtWm7nNFl"
      },
      "source": [
        "### 5. '결제시각'데이터에서 날짜와 시간데이터를 나누어 데이터만 뽑아, '결제날짜'와 '결제시간'파생변수로 각각 선언하시오."
      ]
    },
    {
      "cell_type": "code",
      "execution_count": null,
      "metadata": {
        "id": "TYFv3inJnNFm"
      },
      "outputs": [],
      "source": [
        "for i in range(len(df1)):\n",
        "  df1['결제날짜'][i]=df1['결제시각'][i][:10]\n",
        "  df1['결제시간'][i]=df1['결제시각'][i][11:]"
      ]
    },
    {
      "cell_type": "code",
      "source": [
        "df1"
      ],
      "metadata": {
        "colab": {
          "base_uri": "https://localhost:8080/",
          "height": 614
        },
        "id": "leIt1uEy3d98",
        "outputId": "75acbd2a-6613-44e8-d66c-d1ccad9e8f45"
      },
      "execution_count": 104,
      "outputs": [
        {
          "output_type": "execute_result",
          "data": {
            "text/plain": [
              "          회원코드              프로그램         상태  프로그램가격  최종결제금액  \\\n",
              "0     Y9RY2VSI   체중감량 프로그램 (타입B)  completed  112500  112500   \n",
              "1     3GTN3S3B   체중감량 프로그램 (타입B)  completed   44780   44780   \n",
              "2     6B0IG276  체중감량 프로그램 (타입 A)  completed  132000  149000   \n",
              "3     EMGRU2MO  체중감량 프로그램 (타입 A)  completed  112500  112500   \n",
              "4     1ELG96TX   체중감량 프로그램 (타입B)  completed   44780   44780   \n",
              "...        ...               ...        ...     ...     ...   \n",
              "9995  118AFCQ9   체중감량 프로그램 (타입B)  completed  112500  112500   \n",
              "9996  VDE8FXV9  체중감량 프로그램 (타입 A)  completed  112500  129500   \n",
              "9997  VWJ4NLZY  체중감량 프로그램 (타입 A)  completed  112500  129500   \n",
              "9998  NJ2PR967   체중감량 프로그램 (타입B)  cancelled  112500  129500   \n",
              "9999  KVX64CPM  체중감량 프로그램 (타입 A)  cancelled  112500  112500   \n",
              "\n",
              "                               결제시각       결제유형        채널  보조식품가격 보조식품(추가구매)  \\\n",
              "0      2017-04-14 오후 7:03:29.976000  Recurring    others       0       구매안함   \n",
              "1      2017-05-23 오후 8:53:54.368000  Recurring    others       0       구매안함   \n",
              "2     2017-08-23 오후 11:39:21.840000  Recurring  facebook   17000   식이요법보조제A   \n",
              "3      2017-08-28 오후 8:18:22.824000  Recurring     naver       0       구매안함   \n",
              "4      2017-05-07 오후 5:50:30.944000  Recurring  facebook       0       구매안함   \n",
              "...                             ...        ...       ...     ...        ...   \n",
              "9995  2017-04-18 오전 12:43:58.104000  Recurring  facebook       0       구매안함   \n",
              "9996  2017-08-16 오전 10:03:10.136000  Recurring  facebook   17000   식이요법보조제A   \n",
              "9997  2017-08-09 오전 11:47:55.408000  Recurring  facebook   17000   식이요법보조제A   \n",
              "9998   2017-04-28 오전 7:05:19.776000  Recurring  facebook       0       구매안함   \n",
              "9999  2017-06-02 오전 10:16:34.576000  Recurring    others       0       구매안함   \n",
              "\n",
              "           결제날짜                결제시간  \n",
              "0    2017-04-14   오후 7:03:29.976000  \n",
              "1    2017-05-23   오후 8:53:54.368000  \n",
              "2    2017-08-23  오후 11:39:21.840000  \n",
              "3    2017-08-28   오후 8:18:22.824000  \n",
              "4    2017-05-07   오후 5:50:30.944000  \n",
              "...         ...                 ...  \n",
              "9995 2017-04-18  오전 12:43:58.104000  \n",
              "9996 2017-08-16  오전 10:03:10.136000  \n",
              "9997 2017-08-09  오전 11:47:55.408000  \n",
              "9998 2017-04-28   오전 7:05:19.776000  \n",
              "9999 2017-06-02  오전 10:16:34.576000  \n",
              "\n",
              "[10000 rows x 12 columns]"
            ],
            "text/html": [
              "\n",
              "  <div id=\"df-d1790995-0951-4ba5-ae47-a11b99451123\" class=\"colab-df-container\">\n",
              "    <div>\n",
              "<style scoped>\n",
              "    .dataframe tbody tr th:only-of-type {\n",
              "        vertical-align: middle;\n",
              "    }\n",
              "\n",
              "    .dataframe tbody tr th {\n",
              "        vertical-align: top;\n",
              "    }\n",
              "\n",
              "    .dataframe thead th {\n",
              "        text-align: right;\n",
              "    }\n",
              "</style>\n",
              "<table border=\"1\" class=\"dataframe\">\n",
              "  <thead>\n",
              "    <tr style=\"text-align: right;\">\n",
              "      <th></th>\n",
              "      <th>회원코드</th>\n",
              "      <th>프로그램</th>\n",
              "      <th>상태</th>\n",
              "      <th>프로그램가격</th>\n",
              "      <th>최종결제금액</th>\n",
              "      <th>결제시각</th>\n",
              "      <th>결제유형</th>\n",
              "      <th>채널</th>\n",
              "      <th>보조식품가격</th>\n",
              "      <th>보조식품(추가구매)</th>\n",
              "      <th>결제날짜</th>\n",
              "      <th>결제시간</th>\n",
              "    </tr>\n",
              "  </thead>\n",
              "  <tbody>\n",
              "    <tr>\n",
              "      <th>0</th>\n",
              "      <td>Y9RY2VSI</td>\n",
              "      <td>체중감량 프로그램 (타입B)</td>\n",
              "      <td>completed</td>\n",
              "      <td>112500</td>\n",
              "      <td>112500</td>\n",
              "      <td>2017-04-14 오후 7:03:29.976000</td>\n",
              "      <td>Recurring</td>\n",
              "      <td>others</td>\n",
              "      <td>0</td>\n",
              "      <td>구매안함</td>\n",
              "      <td>2017-04-14</td>\n",
              "      <td>오후 7:03:29.976000</td>\n",
              "    </tr>\n",
              "    <tr>\n",
              "      <th>1</th>\n",
              "      <td>3GTN3S3B</td>\n",
              "      <td>체중감량 프로그램 (타입B)</td>\n",
              "      <td>completed</td>\n",
              "      <td>44780</td>\n",
              "      <td>44780</td>\n",
              "      <td>2017-05-23 오후 8:53:54.368000</td>\n",
              "      <td>Recurring</td>\n",
              "      <td>others</td>\n",
              "      <td>0</td>\n",
              "      <td>구매안함</td>\n",
              "      <td>2017-05-23</td>\n",
              "      <td>오후 8:53:54.368000</td>\n",
              "    </tr>\n",
              "    <tr>\n",
              "      <th>2</th>\n",
              "      <td>6B0IG276</td>\n",
              "      <td>체중감량 프로그램 (타입 A)</td>\n",
              "      <td>completed</td>\n",
              "      <td>132000</td>\n",
              "      <td>149000</td>\n",
              "      <td>2017-08-23 오후 11:39:21.840000</td>\n",
              "      <td>Recurring</td>\n",
              "      <td>facebook</td>\n",
              "      <td>17000</td>\n",
              "      <td>식이요법보조제A</td>\n",
              "      <td>2017-08-23</td>\n",
              "      <td>오후 11:39:21.840000</td>\n",
              "    </tr>\n",
              "    <tr>\n",
              "      <th>3</th>\n",
              "      <td>EMGRU2MO</td>\n",
              "      <td>체중감량 프로그램 (타입 A)</td>\n",
              "      <td>completed</td>\n",
              "      <td>112500</td>\n",
              "      <td>112500</td>\n",
              "      <td>2017-08-28 오후 8:18:22.824000</td>\n",
              "      <td>Recurring</td>\n",
              "      <td>naver</td>\n",
              "      <td>0</td>\n",
              "      <td>구매안함</td>\n",
              "      <td>2017-08-28</td>\n",
              "      <td>오후 8:18:22.824000</td>\n",
              "    </tr>\n",
              "    <tr>\n",
              "      <th>4</th>\n",
              "      <td>1ELG96TX</td>\n",
              "      <td>체중감량 프로그램 (타입B)</td>\n",
              "      <td>completed</td>\n",
              "      <td>44780</td>\n",
              "      <td>44780</td>\n",
              "      <td>2017-05-07 오후 5:50:30.944000</td>\n",
              "      <td>Recurring</td>\n",
              "      <td>facebook</td>\n",
              "      <td>0</td>\n",
              "      <td>구매안함</td>\n",
              "      <td>2017-05-07</td>\n",
              "      <td>오후 5:50:30.944000</td>\n",
              "    </tr>\n",
              "    <tr>\n",
              "      <th>...</th>\n",
              "      <td>...</td>\n",
              "      <td>...</td>\n",
              "      <td>...</td>\n",
              "      <td>...</td>\n",
              "      <td>...</td>\n",
              "      <td>...</td>\n",
              "      <td>...</td>\n",
              "      <td>...</td>\n",
              "      <td>...</td>\n",
              "      <td>...</td>\n",
              "      <td>...</td>\n",
              "      <td>...</td>\n",
              "    </tr>\n",
              "    <tr>\n",
              "      <th>9995</th>\n",
              "      <td>118AFCQ9</td>\n",
              "      <td>체중감량 프로그램 (타입B)</td>\n",
              "      <td>completed</td>\n",
              "      <td>112500</td>\n",
              "      <td>112500</td>\n",
              "      <td>2017-04-18 오전 12:43:58.104000</td>\n",
              "      <td>Recurring</td>\n",
              "      <td>facebook</td>\n",
              "      <td>0</td>\n",
              "      <td>구매안함</td>\n",
              "      <td>2017-04-18</td>\n",
              "      <td>오전 12:43:58.104000</td>\n",
              "    </tr>\n",
              "    <tr>\n",
              "      <th>9996</th>\n",
              "      <td>VDE8FXV9</td>\n",
              "      <td>체중감량 프로그램 (타입 A)</td>\n",
              "      <td>completed</td>\n",
              "      <td>112500</td>\n",
              "      <td>129500</td>\n",
              "      <td>2017-08-16 오전 10:03:10.136000</td>\n",
              "      <td>Recurring</td>\n",
              "      <td>facebook</td>\n",
              "      <td>17000</td>\n",
              "      <td>식이요법보조제A</td>\n",
              "      <td>2017-08-16</td>\n",
              "      <td>오전 10:03:10.136000</td>\n",
              "    </tr>\n",
              "    <tr>\n",
              "      <th>9997</th>\n",
              "      <td>VWJ4NLZY</td>\n",
              "      <td>체중감량 프로그램 (타입 A)</td>\n",
              "      <td>completed</td>\n",
              "      <td>112500</td>\n",
              "      <td>129500</td>\n",
              "      <td>2017-08-09 오전 11:47:55.408000</td>\n",
              "      <td>Recurring</td>\n",
              "      <td>facebook</td>\n",
              "      <td>17000</td>\n",
              "      <td>식이요법보조제A</td>\n",
              "      <td>2017-08-09</td>\n",
              "      <td>오전 11:47:55.408000</td>\n",
              "    </tr>\n",
              "    <tr>\n",
              "      <th>9998</th>\n",
              "      <td>NJ2PR967</td>\n",
              "      <td>체중감량 프로그램 (타입B)</td>\n",
              "      <td>cancelled</td>\n",
              "      <td>112500</td>\n",
              "      <td>129500</td>\n",
              "      <td>2017-04-28 오전 7:05:19.776000</td>\n",
              "      <td>Recurring</td>\n",
              "      <td>facebook</td>\n",
              "      <td>0</td>\n",
              "      <td>구매안함</td>\n",
              "      <td>2017-04-28</td>\n",
              "      <td>오전 7:05:19.776000</td>\n",
              "    </tr>\n",
              "    <tr>\n",
              "      <th>9999</th>\n",
              "      <td>KVX64CPM</td>\n",
              "      <td>체중감량 프로그램 (타입 A)</td>\n",
              "      <td>cancelled</td>\n",
              "      <td>112500</td>\n",
              "      <td>112500</td>\n",
              "      <td>2017-06-02 오전 10:16:34.576000</td>\n",
              "      <td>Recurring</td>\n",
              "      <td>others</td>\n",
              "      <td>0</td>\n",
              "      <td>구매안함</td>\n",
              "      <td>2017-06-02</td>\n",
              "      <td>오전 10:16:34.576000</td>\n",
              "    </tr>\n",
              "  </tbody>\n",
              "</table>\n",
              "<p>10000 rows × 12 columns</p>\n",
              "</div>\n",
              "    <div class=\"colab-df-buttons\">\n",
              "\n",
              "  <div class=\"colab-df-container\">\n",
              "    <button class=\"colab-df-convert\" onclick=\"convertToInteractive('df-d1790995-0951-4ba5-ae47-a11b99451123')\"\n",
              "            title=\"Convert this dataframe to an interactive table.\"\n",
              "            style=\"display:none;\">\n",
              "\n",
              "  <svg xmlns=\"http://www.w3.org/2000/svg\" height=\"24px\" viewBox=\"0 -960 960 960\">\n",
              "    <path d=\"M120-120v-720h720v720H120Zm60-500h600v-160H180v160Zm220 220h160v-160H400v160Zm0 220h160v-160H400v160ZM180-400h160v-160H180v160Zm440 0h160v-160H620v160ZM180-180h160v-160H180v160Zm440 0h160v-160H620v160Z\"/>\n",
              "  </svg>\n",
              "    </button>\n",
              "\n",
              "  <style>\n",
              "    .colab-df-container {\n",
              "      display:flex;\n",
              "      gap: 12px;\n",
              "    }\n",
              "\n",
              "    .colab-df-convert {\n",
              "      background-color: #E8F0FE;\n",
              "      border: none;\n",
              "      border-radius: 50%;\n",
              "      cursor: pointer;\n",
              "      display: none;\n",
              "      fill: #1967D2;\n",
              "      height: 32px;\n",
              "      padding: 0 0 0 0;\n",
              "      width: 32px;\n",
              "    }\n",
              "\n",
              "    .colab-df-convert:hover {\n",
              "      background-color: #E2EBFA;\n",
              "      box-shadow: 0px 1px 2px rgba(60, 64, 67, 0.3), 0px 1px 3px 1px rgba(60, 64, 67, 0.15);\n",
              "      fill: #174EA6;\n",
              "    }\n",
              "\n",
              "    .colab-df-buttons div {\n",
              "      margin-bottom: 4px;\n",
              "    }\n",
              "\n",
              "    [theme=dark] .colab-df-convert {\n",
              "      background-color: #3B4455;\n",
              "      fill: #D2E3FC;\n",
              "    }\n",
              "\n",
              "    [theme=dark] .colab-df-convert:hover {\n",
              "      background-color: #434B5C;\n",
              "      box-shadow: 0px 1px 3px 1px rgba(0, 0, 0, 0.15);\n",
              "      filter: drop-shadow(0px 1px 2px rgba(0, 0, 0, 0.3));\n",
              "      fill: #FFFFFF;\n",
              "    }\n",
              "  </style>\n",
              "\n",
              "    <script>\n",
              "      const buttonEl =\n",
              "        document.querySelector('#df-d1790995-0951-4ba5-ae47-a11b99451123 button.colab-df-convert');\n",
              "      buttonEl.style.display =\n",
              "        google.colab.kernel.accessAllowed ? 'block' : 'none';\n",
              "\n",
              "      async function convertToInteractive(key) {\n",
              "        const element = document.querySelector('#df-d1790995-0951-4ba5-ae47-a11b99451123');\n",
              "        const dataTable =\n",
              "          await google.colab.kernel.invokeFunction('convertToInteractive',\n",
              "                                                    [key], {});\n",
              "        if (!dataTable) return;\n",
              "\n",
              "        const docLinkHtml = 'Like what you see? Visit the ' +\n",
              "          '<a target=\"_blank\" href=https://colab.research.google.com/notebooks/data_table.ipynb>data table notebook</a>'\n",
              "          + ' to learn more about interactive tables.';\n",
              "        element.innerHTML = '';\n",
              "        dataTable['output_type'] = 'display_data';\n",
              "        await google.colab.output.renderOutput(dataTable, element);\n",
              "        const docLink = document.createElement('div');\n",
              "        docLink.innerHTML = docLinkHtml;\n",
              "        element.appendChild(docLink);\n",
              "      }\n",
              "    </script>\n",
              "  </div>\n",
              "\n",
              "\n",
              "<div id=\"df-2876750c-e369-4a0e-ab08-6c53d04c6a59\">\n",
              "  <button class=\"colab-df-quickchart\" onclick=\"quickchart('df-2876750c-e369-4a0e-ab08-6c53d04c6a59')\"\n",
              "            title=\"Suggest charts\"\n",
              "            style=\"display:none;\">\n",
              "\n",
              "<svg xmlns=\"http://www.w3.org/2000/svg\" height=\"24px\"viewBox=\"0 0 24 24\"\n",
              "     width=\"24px\">\n",
              "    <g>\n",
              "        <path d=\"M19 3H5c-1.1 0-2 .9-2 2v14c0 1.1.9 2 2 2h14c1.1 0 2-.9 2-2V5c0-1.1-.9-2-2-2zM9 17H7v-7h2v7zm4 0h-2V7h2v10zm4 0h-2v-4h2v4z\"/>\n",
              "    </g>\n",
              "</svg>\n",
              "  </button>\n",
              "\n",
              "<style>\n",
              "  .colab-df-quickchart {\n",
              "      --bg-color: #E8F0FE;\n",
              "      --fill-color: #1967D2;\n",
              "      --hover-bg-color: #E2EBFA;\n",
              "      --hover-fill-color: #174EA6;\n",
              "      --disabled-fill-color: #AAA;\n",
              "      --disabled-bg-color: #DDD;\n",
              "  }\n",
              "\n",
              "  [theme=dark] .colab-df-quickchart {\n",
              "      --bg-color: #3B4455;\n",
              "      --fill-color: #D2E3FC;\n",
              "      --hover-bg-color: #434B5C;\n",
              "      --hover-fill-color: #FFFFFF;\n",
              "      --disabled-bg-color: #3B4455;\n",
              "      --disabled-fill-color: #666;\n",
              "  }\n",
              "\n",
              "  .colab-df-quickchart {\n",
              "    background-color: var(--bg-color);\n",
              "    border: none;\n",
              "    border-radius: 50%;\n",
              "    cursor: pointer;\n",
              "    display: none;\n",
              "    fill: var(--fill-color);\n",
              "    height: 32px;\n",
              "    padding: 0;\n",
              "    width: 32px;\n",
              "  }\n",
              "\n",
              "  .colab-df-quickchart:hover {\n",
              "    background-color: var(--hover-bg-color);\n",
              "    box-shadow: 0 1px 2px rgba(60, 64, 67, 0.3), 0 1px 3px 1px rgba(60, 64, 67, 0.15);\n",
              "    fill: var(--button-hover-fill-color);\n",
              "  }\n",
              "\n",
              "  .colab-df-quickchart-complete:disabled,\n",
              "  .colab-df-quickchart-complete:disabled:hover {\n",
              "    background-color: var(--disabled-bg-color);\n",
              "    fill: var(--disabled-fill-color);\n",
              "    box-shadow: none;\n",
              "  }\n",
              "\n",
              "  .colab-df-spinner {\n",
              "    border: 2px solid var(--fill-color);\n",
              "    border-color: transparent;\n",
              "    border-bottom-color: var(--fill-color);\n",
              "    animation:\n",
              "      spin 1s steps(1) infinite;\n",
              "  }\n",
              "\n",
              "  @keyframes spin {\n",
              "    0% {\n",
              "      border-color: transparent;\n",
              "      border-bottom-color: var(--fill-color);\n",
              "      border-left-color: var(--fill-color);\n",
              "    }\n",
              "    20% {\n",
              "      border-color: transparent;\n",
              "      border-left-color: var(--fill-color);\n",
              "      border-top-color: var(--fill-color);\n",
              "    }\n",
              "    30% {\n",
              "      border-color: transparent;\n",
              "      border-left-color: var(--fill-color);\n",
              "      border-top-color: var(--fill-color);\n",
              "      border-right-color: var(--fill-color);\n",
              "    }\n",
              "    40% {\n",
              "      border-color: transparent;\n",
              "      border-right-color: var(--fill-color);\n",
              "      border-top-color: var(--fill-color);\n",
              "    }\n",
              "    60% {\n",
              "      border-color: transparent;\n",
              "      border-right-color: var(--fill-color);\n",
              "    }\n",
              "    80% {\n",
              "      border-color: transparent;\n",
              "      border-right-color: var(--fill-color);\n",
              "      border-bottom-color: var(--fill-color);\n",
              "    }\n",
              "    90% {\n",
              "      border-color: transparent;\n",
              "      border-bottom-color: var(--fill-color);\n",
              "    }\n",
              "  }\n",
              "</style>\n",
              "\n",
              "  <script>\n",
              "    async function quickchart(key) {\n",
              "      const quickchartButtonEl =\n",
              "        document.querySelector('#' + key + ' button');\n",
              "      quickchartButtonEl.disabled = true;  // To prevent multiple clicks.\n",
              "      quickchartButtonEl.classList.add('colab-df-spinner');\n",
              "      try {\n",
              "        const charts = await google.colab.kernel.invokeFunction(\n",
              "            'suggestCharts', [key], {});\n",
              "      } catch (error) {\n",
              "        console.error('Error during call to suggestCharts:', error);\n",
              "      }\n",
              "      quickchartButtonEl.classList.remove('colab-df-spinner');\n",
              "      quickchartButtonEl.classList.add('colab-df-quickchart-complete');\n",
              "    }\n",
              "    (() => {\n",
              "      let quickchartButtonEl =\n",
              "        document.querySelector('#df-2876750c-e369-4a0e-ab08-6c53d04c6a59 button');\n",
              "      quickchartButtonEl.style.display =\n",
              "        google.colab.kernel.accessAllowed ? 'block' : 'none';\n",
              "    })();\n",
              "  </script>\n",
              "</div>\n",
              "    </div>\n",
              "  </div>\n"
            ]
          },
          "metadata": {},
          "execution_count": 104
        }
      ]
    },
    {
      "cell_type": "markdown",
      "metadata": {
        "id": "uRVDUukZnNFm"
      },
      "source": [
        "### 6. 앞서 추출된 '결제날짜'데이터를 이용하여, '연도' / '월' / '일' 데이터를 추출하시오."
      ]
    },
    {
      "cell_type": "code",
      "execution_count": null,
      "metadata": {
        "id": "5jioj-4ZnNFn"
      },
      "outputs": [],
      "source": [
        "df1['결제날짜'] = pd.to_datetime(df1['결제날짜'])\n",
        "print('연도:\\n',df1['결제날짜'].dt.year,'월:\\n', df1['결제날짜'].dt.month, '일:\\n',df1['결제날짜'].dt.day)"
      ]
    },
    {
      "cell_type": "markdown",
      "metadata": {
        "id": "DjhcsgeInNFn"
      },
      "source": [
        "### 7. 결제 '월'별 '최종결제금액'의 합을 계산하시오."
      ]
    },
    {
      "cell_type": "code",
      "execution_count": 103,
      "metadata": {
        "colab": {
          "base_uri": "https://localhost:8080/"
        },
        "id": "GKzzPfYQnNFn",
        "outputId": "3aab01c4-dc09-481c-804c-fb81e9336003"
      },
      "outputs": [
        {
          "output_type": "execute_result",
          "data": {
            "text/plain": [
              "결제날짜\n",
              "3     67579200\n",
              "4    133340640\n",
              "5    185577300\n",
              "6    203945100\n",
              "7    178364700\n",
              "8    395389300\n",
              "Name: 최종결제금액, dtype: int64"
            ]
          },
          "metadata": {},
          "execution_count": 103
        }
      ],
      "source": [
        "df1['최종결제금액'].groupby(df1['결제날짜'].dt.month).sum()"
      ]
    },
    {
      "cell_type": "markdown",
      "metadata": {
        "id": "nwVz7DY7nNFo"
      },
      "source": [
        "### 8. '최종결제금액'이 높은 30명의 고객 명단을 추출하여, result2.xlsx로 선언하시오."
      ]
    },
    {
      "cell_type": "code",
      "execution_count": 128,
      "metadata": {
        "id": "J0389eyqnNFp"
      },
      "outputs": [],
      "source": [
        "df1 = df1.sort_values('최종결제금액', ascending=False)\n",
        "df1[:30].to_excel('result2.xlsx')"
      ]
    },
    {
      "cell_type": "markdown",
      "metadata": {
        "id": "PxLR78ZAnNFp"
      },
      "source": [
        "### 9. '상태'가 completed에 해당하는 데이터만 뽑아, '채널'별 '최종결제금액'의 합을 계산하시오."
      ]
    },
    {
      "cell_type": "code",
      "execution_count": 115,
      "metadata": {
        "colab": {
          "base_uri": "https://localhost:8080/"
        },
        "id": "LFuVUj6WnNFq",
        "outputId": "01e8553b-bc79-47d4-8576-ec3b29921c8c"
      },
      "outputs": [
        {
          "output_type": "stream",
          "name": "stdout",
          "text": [
            "채널\n",
            "direct        31337160\n",
            "email         30655080\n",
            "facebook     825136460\n",
            "google        12663480\n",
            "instagram      3562620\n",
            "naver        111491750\n",
            "others       149349690\n",
            "Name: 최종결제금액, dtype: int64\n"
          ]
        }
      ],
      "source": [
        "df1_data = df1[df1['상태'] == 'completed']\n",
        "total_payment_by_channel = df1.groupby('채널')['최종결제금액'].sum()\n",
        "print(total_payment_by_channel)"
      ]
    }
  ],
  "metadata": {
    "kernelspec": {
      "display_name": "Python 3 (ipykernel)",
      "language": "python",
      "name": "python3"
    },
    "language_info": {
      "codemirror_mode": {
        "name": "ipython",
        "version": 3
      },
      "file_extension": ".py",
      "mimetype": "text/x-python",
      "name": "python",
      "nbconvert_exporter": "python",
      "pygments_lexer": "ipython3",
      "version": "3.9.13"
    },
    "colab": {
      "provenance": []
    }
  },
  "nbformat": 4,
  "nbformat_minor": 0
}